{
 "cells": [
  {
   "cell_type": "markdown",
   "id": "eedc88d5",
   "metadata": {},
   "source": [
    "# FINAL PROJECT PROPOSAL:"
   ]
  },
  {
   "cell_type": "markdown",
   "id": "ca783b77",
   "metadata": {},
   "source": [
    "# AIR QUALITY INDEX "
   ]
  },
  {
   "cell_type": "markdown",
   "id": "b290b901",
   "metadata": {},
   "source": [
    "TEAM MEMBERS:-\n",
    "1.PRARTHANA BAHURIYA\n",
    "2.SUKUMAR CHIGURUPATI\n",
    "3.VIVEK CHINTA"
   ]
  },
  {
   "cell_type": "markdown",
   "id": "063e631f",
   "metadata": {},
   "source": [
    "# INTRODUCTION"
   ]
  },
  {
   "cell_type": "markdown",
   "id": "1c2e54b2",
   "metadata": {},
   "source": [
    "Air quality index (AQI) analysis is a crucial aspect of environmental data science that involves monitoring and analyzing air quality in a specific location. It aims to provide a numerical value representative of overall air quality, essential for public health and environmental management.\n",
    "\n",
    "Air quality is a major public health concern. According to the World Health Organization, air pollution is responsible for an estimated 7 million deaths each year. Air quality can be affected by a variety of factors, including emissions from vehicles, factories, and power plants.\n",
    "\n",
    "The Air Quality Index (AQI) is a measure of air quality that is used to communicate the risk to human health. The AQI is calculated using the concentrations of five major pollutants: ozone, particulate matter, carbon monoxide, nitrogen dioxide, and sulfur dioxide.\n",
    "\n",
    "In this project, we will use Python to analyze air quality data from the city of Banglore, India. We will use the AQI to identify trends in air quality and to assess the risk to public health."
   ]
  },
  {
   "cell_type": "markdown",
   "id": "90a871f3",
   "metadata": {},
   "source": [
    "# RESEARCH QUESTIONS"
   ]
  },
  {
   "cell_type": "markdown",
   "id": "d24009e3",
   "metadata": {},
   "source": [
    "*Feature Relevance: What are the most influential factors or features affecting AQI prediction in a given region?\n",
    "\n",
    "*Data Integration: How can diverse data sources, such as meteorological, geographical, and pollutant-specific data, be effectively integrated to improve AQI predictions?\n",
    "\n",
    "*Forecasting Accuracy: How far in advance can AQI levels be accurately predicted, considering different modelling techniques and input data?\n"
   ]
  },
  {
   "cell_type": "markdown",
   "id": "85cf5cee",
   "metadata": {},
   "source": [
    "# DATA TO BE USED "
   ]
  },
  {
   "cell_type": "markdown",
   "id": "88c29021",
   "metadata": {},
   "source": [
    "Gathering air quality data from various sources, such as government monitoring stations, sensors, or satellite imagery.Historical air quality data for a Location can be obtained from existing air quality databases, which are often maintained by environmental agencies and research institutions.This real-time data will include measurements.\n",
    "\n",
    "Data will be collected from this source via scraping of a web page.\n",
    "https://en.tutiempo.net/bengalore.html\n",
    "\n",
    "\n",
    "Data from this source will be collected in csv file:\n",
    "https://en.tutiempo.net/climate/download/ws-432950.html\n"
   ]
  },
  {
   "cell_type": "markdown",
   "id": "fca7e28f",
   "metadata": {},
   "source": [
    "# APPROACH"
   ]
  },
  {
   "cell_type": "markdown",
   "id": "9f6fb798",
   "metadata": {},
   "source": [
    "For this project, we want to  follow the whole lifecycle of a Data Science Project.\n",
    "Data Collection: \n",
    "For this step, we are planning to write a web scrapper that scraps en.tutiempo.net for climate data from 2013 to 2015 and creates a HTML file for each month.\n",
    "\n",
    "Data Preprocessing: \n",
    "\n",
    "This data contains hourly measurements of AQI.\n",
    "This was converted into a dictionary format where the dictionary key is the year and values are the daily AQI values.\n",
    "Next, the data in step 1 was combined with data of this step to create a new CSV file.\n",
    "\n",
    "Data Cleaning: \n",
    "The CSV file created in step 2 was cleaned to remove null values and improper data. A new resultant CSV file was created.\n",
    "\n",
    "Feature Engineering and Model Creation: \n",
    "We are trying to use various algorithms, like Linear Regression, Decision Tree Regressor, XGBoost Regressor.\n",
    "XGBoost gave best performance. Finally we are planning to use XGBoost to perform predictions.\n",
    "\n",
    "Project Overview:\n",
    "We propose an Air Quality Index (AQI) analysis project for Bangalore,India to monitor, analyze, and provide insights into air quality. The project aims to address key research questions regarding air quality fluctuations, pollution sources, and policy recommendations. We believe this project is both realistic and feasible within the allocated time frame.\n",
    " \n",
    "Project Responsibilities:- \n",
    "Prarthana Bahuriya: Data collection, database management.\n",
    "Sukumar Chigurupati: Factor analysis and hypothesis testing.\n",
    "Vivek Chinta: Data visualization and algorithm implementation.\n",
    "\n",
    "CONCLUSION:-\n",
    "\n",
    "By the end of this project, we aim to provide insights into air quality that can guide policymakers, health organizations, and the general public in improving air quality and public health.\n"
   ]
  },
  {
   "cell_type": "code",
   "execution_count": null,
   "id": "57708d53",
   "metadata": {},
   "outputs": [],
   "source": []
  }
 ],
 "metadata": {
  "kernelspec": {
   "display_name": "Python 3 (ipykernel)",
   "language": "python",
   "name": "python3"
  },
  "language_info": {
   "codemirror_mode": {
    "name": "ipython",
    "version": 3
   },
   "file_extension": ".py",
   "mimetype": "text/x-python",
   "name": "python",
   "nbconvert_exporter": "python",
   "pygments_lexer": "ipython3",
   "version": "3.11.4"
  }
 },
 "nbformat": 4,
 "nbformat_minor": 5
}
