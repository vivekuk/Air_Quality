{
 "cells": [
  {
   "cell_type": "markdown",
   "id": "eedc88d5",
   "metadata": {},
   "source": [
    "# FINAL PROJECT PROPOSAL:-\n",
    "## AIR QUALITY INDEX ANALYSIS IN NEW YORK CITY"
   ]
  },
  {
   "cell_type": "markdown",
   "id": "b290b901",
   "metadata": {},
   "source": [
    "### TEAM MEMBERS:-\n",
    "1. PRARTHANA BAHURIYA\n",
    "2. SUKUMAR CHIGURUPATI\n",
    "3. VIVEK CHINTA"
   ]
  },
  {
   "cell_type": "markdown",
   "id": "063e631f",
   "metadata": {},
   "source": [
    "# INTRODUCTION"
   ]
  },
  {
   "cell_type": "markdown",
   "id": "028ab84d",
   "metadata": {},
   "source": [
    "Air quality analysis is a fundamental aspect of environmental data science, playing a pivotal role in the monitoring and assessment of air quality in specific locations. This process aims to provide a numerical representation of overall air quality, which is essential for the well-being of the public and the effective management of the environment.\n",
    "\n",
    "Air quality is a pressing concern with significant implications for public health. The World Health Organization estimates that air pollution is responsible for approximately 7 million premature deaths annually. Various factors, including emissions from vehicles, industrial facilities, and power plants, contribute to fluctuations in air quality.\n",
    "\n",
    "The Air Quality Index (AQI) serves as a vital tool in quantifying and communicating the health risks associated with prevailing air quality conditions. It is computed based on the concentrations of five major pollutants: ozone, particulate matter, carbon monoxide, nitrogen dioxide, and sulfur dioxide.\n",
    "\n",
    "In this project, we will utilize Python to analyze air quality data from New York City, USA. Our objective is to utilize the AQI to identify trends in air quality and assess the potential risks to public health. This endeavor contributes to a better understanding of the intricate relationship between environmental factors and public health while emphasizing the importance of responsible environmental management."
   ]
  },
  {
   "cell_type": "markdown",
   "id": "36080d59",
   "metadata": {},
   "source": [
    "# RESEARCH QUESTIONS\n",
    "\n",
    "In this section, we present the research questions that will guide our analysis of the air quality index in New York City.\n",
    "\n",
    "1. **Research Question 1**: Analyze historical air quality data to identify trends and patterns.\n",
    "\n",
    "2. **Research Question 2**: Identify sources of pollution and their impact on air quality.\n",
    "\n",
    "3. **Research Question 3**: Propose recommendations for improving air quality in New York City.\n",
    "\n",
    "   ## Explanation of Real-World Implementation:\n",
    " \n",
    "   *Explanation-1*: By analyzing historical air quality data, we aim to identify trends and patterns. This understanding will assist city planners and decision-makers in making informed choices for urban planning and pollution control.\n",
    " \n",
    "   *Explanation-2*: Identifying the main sources of air pollution impacting the AQI in New York City is crucial for taking targeted actions. This analysis will help in determining the sources of pollution and their impact on air quality, enabling authorities to implement specific measures for improvement.\n",
    "    \n",
    "    \n",
    "   *Explanation-3*: The results of this research can make a significant difference in the real world. The recommendations derived from this analysis will guide local authorities in taking concrete steps towards improving air quality, which may include stricter regulations, incentives for cleaner technologies, and urban development projects.\n",
    "\n"
   ]
  },
  {
   "cell_type": "markdown",
   "id": "4f2d2fe9",
   "metadata": {},
   "source": [
    "# DATA TO BE USED \n",
    "\n",
    "In our project, we will gather air quality data from various sources, including government monitoring stations, sensors, and satellite imagery. This data will be essential for our analysis of the air quality index in New York City.\n",
    "\n",
    "### Historical Air Quality Data\n",
    "\n",
    "Historical air quality data for New York City can be obtained from existing air quality databases, often maintained by environmental agencies and research institutions. These databases contain a wealth of historical information that will be valuable for our analysis.\n",
    "\n",
    "### Real-Time Data\n",
    "\n",
    "We will also access real-time data, which includes measurements of various air pollutants such as NO2, CO, SO2, and O3. This real-time data will be collected from sources like [Data.gov's Air Quality Catalog](https://catalog.data.gov/dataset/air-quality) via web scraping.\n",
    "\n",
    "By combining historical and real-time data from these sources, we will have a comprehensive dataset to perform our analysis and answer the research questions effectively.\n"
   ]
  },
  {
   "cell_type": "markdown",
   "id": "dd7959ce",
   "metadata": {},
   "source": [
    "#  APPROACH\n",
    "\n",
    "In this section, we outline our approach for managing data, conducting statistical analysis, generating graphics, and achieving the goals of our Air Quality Index (AQI) analysis project.\n",
    "\n",
    "## Data Organization and Storage\n",
    "\n",
    "We will gather data from various sources, including air quality monitoring stations, geographic and environmental sources, historical databases, and traffic and emission data. This data will be meticulously organized and stored in a centralized database.\n",
    "\n",
    "## Statistical Analysis\n",
    "\n",
    "To address our research questions effectively, we will employ a combination of statistical and analytical methods, including:\n",
    "\n",
    "1. **Descriptive Statistics**: We will use basic statistical measures, such as mean, median, standard deviation, and percentiles, to summarize air quality data characteristics. This will provide insights into central tendencies and variations in air quality, facilitating a better understanding of the data.\n",
    "\n",
    "2. **Correlation Analysis**: We will conduct correlation analysis to examine relationships between air quality parameters and external factors. This analysis is crucial for uncovering associations and dependencies that play a vital role in our research.\n",
    "\n",
    "These statistical analyses are fundamental in extracting meaningful insights from our data and comprehensively addressing our research questions. Our aim is to identify patterns, trends, and associations within air quality data that will inform policy recommendations and lead to improvements in air quality within the City.\n",
    "\n",
    "## Data Visualization\n",
    "\n",
    "Creating informative graphics is an essential aspect of our project. Visual representations of data simplify complex information and enhance the communication of key findings. We intend to generate the following types of graphics to assist in answering our research questions:\n",
    "\n",
    "1. **Geographic Maps**: Geographic maps will visually illustrate the spatial distribution of air quality in the City. Color scales will be used to represent AQI levels in different regions, enabling users to discern areas with varying air quality. These maps will provide insights into geographical variations in air pollution and help answer questions about differences in air quality across different areas.\n",
    "\n",
    "2. **Statistical Plots**: Depending on our specific analyses, we may create statistical plots like scatterplots, correlation matrices, and regression plots. These plots will visualize relationships between air quality variables and external factors, such as meteorological conditions, traffic density, and industrial emissions.\n",
    "\n",
    "3. **Temporal and Spatial Heatmaps**: Heatmaps will be employed to depict temporal and spatial patterns in the data. Temporal heatmaps can show daily or seasonal patterns in air quality, while spatial heatmaps can reveal areas with consistent air quality issues. These heatmaps will be invaluable for understanding variations and identifying air pollution hotspots.\n",
    "\n",
    "The primary goal of these graphics is to present complex data in a clear and visually engaging manner, making it accessible to both researchers and stakeholders. These visualizations will play a pivotal role in addressing our research questions and supporting data-driven decision-making to enhance air quality within the City.\n",
    "\n",
    "# Project Overview\n",
    "\n",
    "We propose an Air Quality Index (AQI) analysis project for New York City, focusing on monitoring, analyzing, and providing insights into air quality. Our project aims to address key research questions related to air quality fluctuations, pollution sources, and policy recommendations. We are confident that this project is both realistic and feasible within the allocated time frame.\n",
    "\n",
    "# Project Responsibilities\n",
    "\n",
    "- **Prarthana Bahuriya**: Data collection, database management, and time series analysis.\n",
    "- **Sukumar Chigurupati**: Factor analysis and hypothesis testing.\n",
    "- **Vivek Chinta**: Data visualization and report writing.\n",
    "\n",
    "# Conclusion\n",
    "\n",
    "By the conclusion of this project, our goal is to provide valuable insights into air quality that can guide policymakers, health organizations, and the general public in their efforts to improve air quality and public health."
   ]
  }
 ],
 "metadata": {
  "kernelspec": {
   "display_name": "Python 3 (ipykernel)",
   "language": "python",
   "name": "python3"
  },
  "language_info": {
   "codemirror_mode": {
    "name": "ipython",
    "version": 3
   },
   "file_extension": ".py",
   "mimetype": "text/x-python",
   "name": "python",
   "nbconvert_exporter": "python",
   "pygments_lexer": "ipython3",
   "version": "3.11.4"
  }
 },
 "nbformat": 4,
 "nbformat_minor": 5
}
